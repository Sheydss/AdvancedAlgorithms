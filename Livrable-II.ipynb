{
 "cells": [
  {
   "cell_type": "raw",
   "id": "e16ecb08-ce22-4b34-9aee-3b17f4cab173",
   "metadata": {},
   "source": [
    "Project deliverable\n",
    "\n",
    "Group 3 \n",
    "Members : \n",
    "- \n",
    "- \n",
    "- \n",
    "- \n"
   ]
  },
  {
   "cell_type": "raw",
   "id": "3aebfab9-254a-46ae-91d7-aa0580cbcf3e",
   "metadata": {},
   "source": []
  },
  {
   "cell_type": "raw",
   "id": "d0fe5a80-17d8-447f-9183-aba45f3970a7",
   "metadata": {},
   "source": [
    "Summary : \n",
    "Presentation of the project\n",
    "Part I : Modelisation \n",
    "1 - Algorithmic complexity\n",
    "2 - Mathematic modelisation\n",
    "3 - Différents algorithmes rentrant dans le cas et comparaison des algorithmes \n",
    "4 - Algorithm choice \n",
    "Partie II : Implementation and operation\n",
    "1 - Algorithm’s implementation ( code)\n",
    "2 - Demonstration of this implementation on multiple cases \n",
    "3 - Comprehensive experimental design demonstrating your algorithm’s performance (rename)\n",
    "a - Performances\n",
    "b - Limitations \n",
    "c - Prospects for improvement"
   ]
  },
  {
   "cell_type": "raw",
   "id": "21cabb4c-9423-418c-a066-00e0afc42b7f",
   "metadata": {},
   "source": []
  },
  {
   "cell_type": "raw",
   "id": "8b914517-4860-4326-8d08-0d32bba2a031",
   "metadata": {},
   "source": [
    "Presentation of the project\n",
    "\n",
    "ADEME (French Environment and Energy Management Agency) has recently launched a call for expressions of interest to promote the execution of demos and experiments of new mobility solutions for people and goods, adapted to different kinds of territories.\n",
    "\n",
    "Your CesiCDP structure is already well established in the field. With the help of many partners, you have carried out several studies on Smart Multimodal Mobility. New transport technologies, despite being more cost-effective and cleaner, also pose new challenges, particularly in terms of resource management optimization. But these transport logistics problems present a major challenge for the future: they can be applied in many areas (mail distribution, product delivery, road network maintenance, garbage collection) and their impact on the environment can be truly significant.\n",
    "\n",
    "You are part of the team set up by CesiCDP to answer the call from ADEME. The challenge is to win new markets with very attractive financing schemes to keep developing your business activity.\n",
    "\n",
    "CesiCDP decided to focus its study on the management of delivery routes. The algorithmic problem consists in calculating on a road network a route allowing to connect a subset of cities between them, then to return to its starting point, so as to minimize the total duration of the route. This optimization should take into account the expected traffic on each axis for the different time slots.\n",
    "\n",
    "The idea is to propose a method from Operations Research to generate a delivery route corresponding to this problem.\n"
   ]
  },
  {
   "cell_type": "raw",
   "id": "10e5b5eb-b450-4cb1-8a85-a4e86d27bf3a",
   "metadata": {},
   "source": []
  },
  {
   "cell_type": "raw",
   "id": "3c190ec7-f586-46c2-89e1-000a085a0060",
   "metadata": {},
   "source": [
    "Part I : Modelisation"
   ]
  },
  {
   "cell_type": "raw",
   "id": "6ee14cf2-03aa-4c3d-8308-b5a13c155ebe",
   "metadata": {},
   "source": []
  },
  {
   "cell_type": "raw",
   "id": "11bff393-a260-40c3-a41c-fc9d65231b5a",
   "metadata": {},
   "source": [
    "Problem modelisation \n",
    "\n",
    "In the course of this project, we first had to analyze the project in order to model it, and then find the best algorithmic model for solving this problem.\n",
    "The aim is to create a solution in Python that will allow us to create a route on a road network to find the route that minimizes the total duration of the tour. Time is therefore our key parameter.\n",
    "This route is a cycle that takes into account traffic and thus the travel time required to link several cities.\n",
    "We represent it as a graph, with the edges (E) being the routes between two cities, and the vertices (V), giving us a graph G(V, E).  \n",
    "\n",
    "Requirements chosen \n",
    "\n",
    "We decided to take the following constraint:\n",
    "Each object has a specific collection point\n",
    "\n",
    "In other words, we'll have a list of objects to collect at specific points. These objects must in turn be delivered to another specific location. This means that we need to recalculate the appropriate route for each object collected.\n",
    "\n",
    "\n",
    "Modelisation\n",
    "\n",
    "Without taking the additional constraint : \n",
    "In our problem, we're trying to optimize a route, so it's a NP-hard problem. \n",
    "\n",
    "Decision problem  \n",
    "Is our problem a Hamiltonian cycle?  \n",
    "Can we make our delivery man pass through each designated vertex of our graph?   \n",
    "\n",
    "Optimization problem   \n",
    "What is the shortest route for our deliveryman to complete his round?"
   ]
  },
  {
   "cell_type": "raw",
   "id": "b309acdb-4c92-4a7b-8707-fcf93cdf01cf",
   "metadata": {},
   "source": []
  },
  {
   "cell_type": "raw",
   "id": "4cbfb72f-6df8-425d-9a61-a408c71a8978",
   "metadata": {},
   "source": [
    "1 - Algorithmic Complexity \n",
    "\n",
    "\n",
    "Pour un ensemble de n! points, il existe au total n! chemins possibles. Le point de départ ne changeant pas la longueur du chemin, on peut choisir celui-ci de façon arbitraire, on a ainsi (n − 1)! chemins différents. Enfin, chaque chemin pouvant être parcouru dans deux sens et les deux possibilités ayant la même longueur, on peut diviser ce nombre par deux. Par exemple, si on nomme les points, a, b, c, d, les chemins abcd et dcba, cdab et badc, adcb et bcda, cbad et dabc ont tous la même longueur. Seul le point de départ et le sens de parcours changent. On a donc (( n − 1) !) / 2 chemins candidats à considérer.   \n"
   ]
  },
  {
   "cell_type": "raw",
   "id": "4250ee7b-805d-49cf-82c0-a3c11e545608",
   "metadata": {},
   "source": []
  },
  {
   "cell_type": "code",
   "execution_count": 6,
   "id": "f721437f-02b0-4132-88aa-3e2a9b01a18f",
   "metadata": {
    "ExecuteTime": {
     "end_time": "2023-06-19T13:46:37.095784215Z",
     "start_time": "2023-06-19T13:46:37.068067157Z"
    }
   },
   "outputs": [],
   "source": [
    "#code ici"
   ]
  },
  {
   "cell_type": "raw",
   "id": "b9fcde74-3e29-4766-8638-64736f9279e8",
   "metadata": {},
   "source": []
  },
  {
   "cell_type": "raw",
   "id": "9a689893-1446-4852-a798-5e7e668e9344",
   "metadata": {},
   "source": [
    "2 - Mathematic modelisation\n",
    "\n",
    "Variables :  \n",
    "- I : List of cities\n",
    "- x(i,j) : represents whether a city had been visited or not on the path , take the  values 1 or 0 \n",
    "- w(i,j) : Represents the edge between deux points of the graph, i.e the time of traject between to cities   \n",
    "Objective function :  \n",
    "- ∑i∑j〖x(i,j) w(i,j) 〗 \n",
    "Requirements  :  \n",
    "- ∑i∑j (x(i,j)) = ∑i∑j (x(j,i) )  \n",
    "- I!=I1  \n",
    "- x'(i,j)=x(i,j)  \n",
    "\n",
    "\n",
    "Problem's Data :  \n",
    "A traffic matrix T, where T(i, j, h) represents the expected traffic level between cities vi and vj at time slot h.  \n",
    "Decision variables :  \n",
    "- A binary variable x(i, j) for each pair of cities (vi, vj), indicating whether the link is included in the tour (1) or not (0).  \n",
    "- A continuous variable y(i, h) for each city vi and time slot h, representing the departure time from city vi to time slot h.  \n",
    "Objective function:  \n",
    "- Minimize total tour duration:  \n",
    "min ∑∑∑[T(i, j, h) * D(i, j) * x(i, j)] + ∑∑[T(i, j, h) * D(i, j) * (1 - x(i, j))] + ∑[T(i, j, h) * D(i, j) * x(j, i)]  \n",
    "Constraints :   \n",
    "- Sub-turn constraint : ∑x(i, j) + ∑x(j, i) ≤ 1 for any subset of cities S ⊆ V, |S| ≥ 2.  \n",
    "- Time continuity constraint: y(i, h) - y(j, h) + M * (1 - ∑x(i, j)) ≥ D(i, j) for all (i, j) ∈ V², h ∈ schedules , where M is a sufficiently large constant.  "
   ]
  },
  {
   "cell_type": "raw",
   "id": "39b95ba3-330c-43c6-af31-3e44c89b560a",
   "metadata": {},
   "source": [
    "#modelisation"
   ]
  },
  {
   "cell_type": "raw",
   "id": "18d78708-04e5-46b5-be1f-b4b446424a62",
   "metadata": {},
   "source": []
  },
  {
   "cell_type": "raw",
   "id": "bf5ead69-3d3e-4234-a3fa-a13118f11fe7",
   "metadata": {},
   "source": [
    "3 - Different algorithms in this case and algorithm comparison\n",
    "\n",
    "To answer the problem, we'll need to use an algorithm to determine the best path based on our data.  \n",
    "\n",
    "Here are the different algorithms we've thought of as a first step. This list is subject to change:  \n",
    "\n",
    "- The travelling salesman algorithm:  \n",
    "\n",
    "The travelling salesman algorithm is an optimization problem in which an undirected weighted graph is required to find the shortest path that passes through all points only once.  \n",
    "\n",
    "- Chinese letter carrier algorithm:  \n",
    "\n",
    "Used to find the shortest path in an undirected connected graph that passes through each edge at least once.  \n",
    "\n",
    "- naive solving  \n",
    "\n",
    "Heuristics :  \n",
    "\n",
    "- 2-opt:  \n",
    "This algorithm is simple and relatively efficient. The principle is as follows:  \n",
    "\n",
    "- An initial path is generated randomly (or by some other method).  \n",
    "- A simple transformation (as simple as possible) is applied to this path.  \n",
    "- If the transformation improves the path, we keep it, otherwise we cancel it.  \n",
    "- Then repeat the operation until the path can no longer be improved. \n",
    "\n",
    "- Lin-Kernighan heuristic: \n",
    "The algorithm consists of iteratively exchanging a certain number of edges from a given solution to find a solution with the best cost. The algorithm works as follows:  \n",
    "- T is chosen as the original, non-optimal tour.  \n",
    "For each edge x of T, x is removed, and the resulting non-circular path P (T\\x) is optimized by reversing the order of passage.  \n",
    "If a new path P' is found that is shorter than the original P, we try to close the tom (link the two ends), and if this turn is shorter than T, we replace T with it and repeat the manoeuvre. \n",
    "- If the new tom is not shorter, we move on to another edge x.  \n",
    "\n",
    "- Ruin and recreate    \n",
    "\n",
    "Méta heuristiques :   \n",
    "\n",
    "- genetic algorithms :  \n",
    "A generic algorithm is a sequence of logical instructions that solves a problem in a general way, without being specific to a particular situation. It follows a clear and precise structure, taking data as input, manipulating it through operations and decisions, and producing a final output. Algorithms may contain loops, conditions, mathematical operations, calls to other functions and so on. It relies on logic and data analysis to achieve a desired result. A generic algorithm must be designed to be efficient, avoid infinite loops and produce correct and reliable results for a wide range of situations.    \n",
    "\n"
   ]
  },
  {
   "cell_type": "raw",
   "id": "1b51b552-a0aa-4102-92bd-e6bb3d4a885a",
   "metadata": {},
   "source": []
  },
  {
   "cell_type": "code",
   "execution_count": 7,
   "id": "bbbc0391-f54d-4542-9ace-d1b167973723",
   "metadata": {
    "ExecuteTime": {
     "end_time": "2023-06-19T13:46:37.161855936Z",
     "start_time": "2023-06-19T13:46:37.084302224Z"
    }
   },
   "outputs": [],
   "source": [
    "#code here "
   ]
  },
  {
   "cell_type": "raw",
   "id": "ff5851a1-b4ff-437e-89f3-97defffb8622",
   "metadata": {},
   "source": []
  },
  {
   "cell_type": "raw",
   "id": "222daadc-6145-4403-8fec-9d8303f95d04",
   "metadata": {},
   "source": [
    "4 - Algorithm choice\n",
    "\n",
    "We choose the [] algorithme because it is well adapted for our situation [ others reasons and proofs)\n"
   ]
  },
  {
   "cell_type": "raw",
   "id": "11b2eafa-e44d-47ef-89bb-d13b13262b70",
   "metadata": {},
   "source": []
  },
  {
   "cell_type": "code",
   "execution_count": 8,
   "id": "985dffc5-cb29-45a9-98d0-214a04f1be66",
   "metadata": {
    "ExecuteTime": {
     "end_time": "2023-06-19T13:46:37.162115929Z",
     "start_time": "2023-06-19T13:46:37.084501370Z"
    }
   },
   "outputs": [],
   "source": [
    "#code "
   ]
  },
  {
   "cell_type": "raw",
   "id": "b01f4445-6ba4-4cf8-a496-93a916b35056",
   "metadata": {},
   "source": []
  },
  {
   "cell_type": "raw",
   "id": "041d4bd2-56fb-4941-bf02-63ddd279e87f",
   "metadata": {},
   "source": [
    "Partie II : Implementation and operation"
   ]
  },
  {
   "cell_type": "markdown",
   "source": [
    "1 - Algorithm’s implementation ( code)\n",
    "\n",
    "Pour implémenter l'algorithme, on va commencer par implémenter un graphe\n",
    "On a décidé d'utiliser une librairie pour créer l'objet graphe car elle est optimisée et possède des fonctions qui nous intéressent\n",
    "Voici la fonction pour la génération d'un graphe :"
   ],
   "metadata": {
    "collapsed": false
   }
  },
  {
   "cell_type": "raw",
   "source": [],
   "metadata": {
    "collapsed": false
   }
  },
  {
   "cell_type": "code",
   "execution_count": 15,
   "outputs": [
    {
     "name": "stdout",
     "output_type": "stream",
     "text": [
      "---------------------------------------------------------\n",
      "Generating Graph with 10 nodes\n",
      "Generation done in 0.0002 seconds\n",
      "---------------------------------------------------------\n"
     ]
    }
   ],
   "source": [
    "import matplotlib.pyplot as plt\n",
    "#pip install networkx\n",
    "import networkx as nx\n",
    "\n",
    "\n",
    "class Graph:\n",
    "    def __init__(self, num_nodes, max_edge):\n",
    "        self.graph = nx.Graph()\n",
    "        self.generate_random_graph(num_nodes, max_edge, 10, 100)\n",
    "\n",
    "    def generate_random_graph(self, num_nodes, max_edges_per_node, min_weight, max_weight):\n",
    "        print(\"---------------------------------------------------------\")\n",
    "        print(f\"Generating Graph with {num_nodes} nodes\")\n",
    "        tic = time.perf_counter()\n",
    "\n",
    "        # Ajouter les nœuds au graphe avec des coordonnées aléatoires\n",
    "        for node in range(num_nodes):\n",
    "            x = random.uniform(min_weight, max_weight)\n",
    "            y = random.uniform(min_weight, max_weight)\n",
    "            self.graph.add_node(node, pos=(x, y))\n",
    "\n",
    "        # Générer les arêtes avec des poids correspondant à la distance euclidienne\n",
    "        for node in range(num_nodes):\n",
    "            num_edges = random.randint(1, max_edges_per_node)\n",
    "            dest_nodes = random.sample(range(num_nodes), num_edges)\n",
    "\n",
    "            for dest_node in dest_nodes:\n",
    "                if node != dest_node:\n",
    "                    pos1 = self.graph.nodes[node]['pos']\n",
    "                    pos2 = self.graph.nodes[dest_node]['pos']\n",
    "                    distance = math.sqrt((pos2[0] - pos1[0]) ** 2 + (pos2[1] - pos1[1]) ** 2)\n",
    "                    weight = int(distance)\n",
    "                    self.graph.add_edge(node, dest_node, weight=weight)\n",
    "\n",
    "        toc = time.perf_counter()\n",
    "        print(f\"Generation done in {toc - tic:0.4f} seconds\")\n",
    "        print(\"---------------------------------------------------------\")\n",
    "\n",
    "    def data_graph(self):\n",
    "        for node in self.graph.nodes:\n",
    "            list_values = []\n",
    "            print(f\"Node : {node}\")\n",
    "            for edge in self.graph.neighbors(node):\n",
    "                values = dict()\n",
    "                values[edge] = self.graph[node][edge]['weight']\n",
    "                list_values.append(values)\n",
    "            print(list_values)\n",
    "\n",
    "    def plot_graph(self, paths=None, colors=None):\n",
    "        # Obtenir les positions des nœuds pour le tracé\n",
    "        pos = nx.get_node_attributes(self.graph, 'pos')\n",
    "\n",
    "        # Dessiner le graphe avec les arêtes des chemins coloriées\n",
    "        nx.draw(self.graph, pos=pos, width=0.8, with_labels=True)\n",
    "\n",
    "        if paths is not None:\n",
    "            if colors is None:\n",
    "                colors = ['black'] * len(paths)  # Par défaut, utiliser la couleur noire pour tous les chemins\n",
    "            elif len(colors) < len(paths):\n",
    "                raise ValueError(\"Le nombre de couleurs fourni est inférieur au nombre de chemins.\")\n",
    "\n",
    "            for path, color in zip(paths, colors):\n",
    "                edges = [(path[i], path[i + 1]) for i in range(len(path) - 1)]\n",
    "                nx.draw_networkx_edges(self.graph, pos=pos, edgelist=edges, edge_color=color, width=2)\n",
    "\n",
    "        plt.show()\n",
    "\n",
    "\n",
    "# Nombre maximum de sommets\n",
    "num_nodes = 10\n",
    "# Nombre maximum d'arretes par sommet\n",
    "max_edges_per_node = 5\n",
    "\n",
    "graph = Graph(num_nodes, max_edges_per_node)\n",
    "\n",
    "# Point de départ\n",
    "start = 1\n",
    "\n",
    "# Point d'arrivée\n",
    "end = 5\n"
   ],
   "metadata": {
    "collapsed": false,
    "ExecuteTime": {
     "end_time": "2023-06-19T13:47:38.985243537Z",
     "start_time": "2023-06-19T13:47:38.974550454Z"
    }
   }
  },
  {
   "cell_type": "markdown",
   "source": [
    "Pour afficher le contenu de ce graph, on a des fonctions associées :"
   ],
   "metadata": {
    "collapsed": false
   }
  },
  {
   "cell_type": "code",
   "execution_count": 16,
   "outputs": [
    {
     "name": "stdout",
     "output_type": "stream",
     "text": [
      "Node : 0\n",
      "[{5: 34}, {6: 37}, {2: 35}, {9: 52}]\n",
      "Node : 1\n",
      "[{9: 23}, {2: 59}, {4: 19}]\n",
      "Node : 2\n",
      "[{0: 35}, {9: 67}, {1: 59}, {8: 9}]\n",
      "Node : 3\n",
      "[{5: 52}, {4: 49}, {7: 88}, {8: 15}]\n",
      "Node : 4\n",
      "[{8: 33}, {3: 49}, {5: 58}, {1: 19}, {6: 36}]\n",
      "Node : 5\n",
      "[{0: 34}, {3: 52}, {4: 58}, {9: 87}, {7: 61}, {6: 65}, {8: 49}]\n",
      "Node : 6\n",
      "[{0: 37}, {4: 36}, {5: 65}]\n",
      "Node : 7\n",
      "[{5: 61}, {3: 88}]\n",
      "Node : 8\n",
      "[{4: 33}, {9: 58}, {5: 49}, {2: 9}, {3: 15}]\n",
      "Node : 9\n",
      "[{1: 23}, {2: 67}, {5: 87}, {8: 58}, {0: 52}]\n"
     ]
    },
    {
     "data": {
      "text/plain": "<Figure size 640x480 with 1 Axes>",
      "image/png": "[encoded data removed]"
     },
     "metadata": {},
     "output_type": "display_data"
    }
   ],
   "source": [
    "graph.data_graph()\n",
    "graph.plot_graph()"
   ],
   "metadata": {
    "collapsed": false,
    "ExecuteTime": {
     "end_time": "2023-06-19T13:47:58.944591265Z",
     "start_time": "2023-06-19T13:47:58.735763127Z"
    }
   }
  },
  {
   "cell_type": "raw",
   "source": [
    "Maintenant, implémentons les algorithmes pour résoudre notre problème :"
   ],
   "metadata": {
    "collapsed": false
   }
  },
  {
   "cell_type": "code",
   "execution_count": 17,
   "outputs": [
    {
     "name": "stdout",
     "output_type": "stream",
     "text": [
      "([1, 4, 5], 77)\n",
      "([1, 4, 5], 77)\n",
      "([1, 4, 6, 0, 5], 126)\n"
     ]
    }
   ],
   "source": [
    "from collections import deque\n",
    "import heapq\n",
    "import math\n",
    "\n",
    "\n",
    "def dijkstra(self, start, end):\n",
    "    distances = {node: float('inf') for node in self.graph.nodes}\n",
    "    distances[start] = 0\n",
    "\n",
    "    heap = [(0, start)]\n",
    "    while heap:\n",
    "        current_cost, current_node = heapq.heappop(heap)\n",
    "\n",
    "        if current_node == end:\n",
    "            break\n",
    "\n",
    "        for neighbor in self.graph.neighbors(current_node):\n",
    "            cost = self.graph[current_node][neighbor]['weight']\n",
    "            new_cost = current_cost + cost\n",
    "            if new_cost < distances[neighbor]:\n",
    "                distances[neighbor] = new_cost\n",
    "                heapq.heappush(heap, (new_cost, neighbor))\n",
    "\n",
    "    path = reconstruct_path(graph, start, end, distances)\n",
    "\n",
    "    return path, distances[end]\n",
    "\n",
    "\n",
    "def reconstruct_path(self, start, end, distances):\n",
    "    current_node = end\n",
    "    path = [current_node]\n",
    "    while current_node != start:\n",
    "        neighbors = self.graph.neighbors(current_node)\n",
    "        min_neighbor = None\n",
    "        min_cost = float('inf')\n",
    "        for neighbor in neighbors:\n",
    "            cost = self.graph[current_node][neighbor]['weight']\n",
    "            if distances[neighbor] + cost < min_cost:\n",
    "                min_neighbor = neighbor\n",
    "                min_cost = distances[neighbor] + cost\n",
    "        path.append(min_neighbor)\n",
    "        current_node = min_neighbor\n",
    "    path.reverse()\n",
    "    return path\n",
    "\n",
    "\n",
    "def a_star(self, start, end):\n",
    "    # Distances du point de départ à chaque nœud (g-cost)\n",
    "    distances = {node: float('inf') for node in self.graph.nodes}\n",
    "    distances[start] = 0\n",
    "\n",
    "    # Estimations des coûts du point de départ à chaque nœud (f-cost)\n",
    "    estimations = {node: heuristic(graph, node, end) for node in self.graph.nodes}\n",
    "\n",
    "    # File de priorité pour l'exploration des nœuds\n",
    "    heap = [(estimations[start], 0, start)]  # (f-cost, g-cost, node)\n",
    "\n",
    "    # Dictionnaire pour stocker les nœuds précédents sur le chemin optimal\n",
    "    came_from = {}\n",
    "\n",
    "    while heap:\n",
    "        _, current_cost, current_node = heapq.heappop(heap)\n",
    "\n",
    "        if current_node == end:\n",
    "            break\n",
    "\n",
    "        for neighbor in self.graph.neighbors(current_node):\n",
    "            cost = self.graph[current_node][neighbor]['weight']\n",
    "            new_cost = current_cost + cost\n",
    "            if new_cost < distances[neighbor]:\n",
    "                distances[neighbor] = new_cost\n",
    "                priority = new_cost + heuristic(graph, neighbor, end)\n",
    "                heapq.heappush(heap, (priority, new_cost, neighbor))\n",
    "                came_from[neighbor] = current_node\n",
    "\n",
    "    path = reverse_path(start, end, came_from)\n",
    "\n",
    "    return path, distances[end]\n",
    "\n",
    "\n",
    "def heuristic(self, node, goal):\n",
    "    # Heuristique utilisée pour estimer le coût restant (ici, distance euclidienne)\n",
    "    pos1 = self.graph.nodes[node]['pos']\n",
    "    pos2 = self.graph.nodes[goal]['pos']\n",
    "    distance = math.sqrt((pos2[0] - pos1[0]) ** 2 + (pos2[1] - pos1[1]) ** 2)\n",
    "    return distance\n",
    "\n",
    "\n",
    "def reverse_path(start, end, came_from):\n",
    "    current_node = end\n",
    "    path = [current_node]\n",
    "    while current_node != start:\n",
    "        current_node = came_from[current_node]\n",
    "        path.append(current_node)\n",
    "    path.reverse()\n",
    "    return path\n",
    "\n",
    "\n",
    "def valeur_contenu(self, source, destination):\n",
    "    if source != destination:\n",
    "        return self.graph[source][destination]['weight']\n",
    "    return float('inf')\n",
    "\n",
    "\n",
    "def calculer_distance(chemin):\n",
    "    distance_totale = 0\n",
    "\n",
    "    for i in range(len(chemin) - 1):\n",
    "        source = chemin[i]\n",
    "        destination = chemin[i + 1]\n",
    "        distance = valeur_contenu(graph, source, destination)\n",
    "        distance_totale += distance\n",
    "\n",
    "    return distance_totale\n",
    "\n",
    "\n",
    "def tabou_search(solution_initiale, destination_finale, taille_tabou, iter_max):\n",
    "    nb_iter = 0\n",
    "    liste_tabou = deque(maxlen=taille_tabou)\n",
    "\n",
    "    solution_courante = [solution_initiale]\n",
    "    meilleurs_voisin = solution_courante\n",
    "    meilleure_globale = solution_courante\n",
    "\n",
    "    # Avoir une valeur élevée juste pour pouvoir comparer :\n",
    "    valeur_meilleure_globale = float('inf')\n",
    "\n",
    "    liste_tabou.append(solution_courante)\n",
    "\n",
    "    while nb_iter < iter_max:\n",
    "        valeur_meilleure = float('inf')\n",
    "\n",
    "        # Parcours des voisins\n",
    "        for voisin in voisinage(graph, solution_courante[-1], liste_tabou, destination_finale, solution_courante):\n",
    "            valeur_to_voisin = valeur_contenu(graph, solution_courante[-1], voisin)\n",
    "            # Selection du meilleur voisin\n",
    "            if valeur_to_voisin < valeur_meilleure:\n",
    "                meilleurs_voisin = voisin\n",
    "            # Changement de la meilleure valeur pour continuer de comparer\n",
    "            valeur_meilleure = valeur_contenu(graph, solution_courante[-1], voisin)\n",
    "\n",
    "        # Permet de garder la valeur du chemin avec le dernier meilleur voisin\n",
    "        if valeur_contenu(graph, solution_courante[-1], meilleurs_voisin) < valeur_meilleure_globale:\n",
    "            meilleure_globale.append(meilleurs_voisin)\n",
    "            if solution_courante[-1] != meilleurs_voisin:\n",
    "                valeur_meilleure_globale = valeur_contenu(graph, solution_courante[-1], meilleurs_voisin)\n",
    "            nb_iter = 0\n",
    "        else:\n",
    "            nb_iter += 1\n",
    "\n",
    "        # Progression dans le graphe en prenant le meilleur voisin\n",
    "        solution_courante = meilleure_globale\n",
    "        liste_tabou.append(meilleurs_voisin)\n",
    "\n",
    "        if solution_courante[-1] == destination_finale:\n",
    "            break\n",
    "\n",
    "    distance_meilleure_globale = calculer_distance(meilleure_globale)\n",
    "    return meilleure_globale, distance_meilleure_globale\n",
    "\n",
    "\n",
    "def voisinage(self, node, visited, destination_finale, solution_courante):\n",
    "    voisins = []\n",
    "    for v in self.graph.neighbors(node):\n",
    "        if v not in visited or v == destination_finale:\n",
    "            if v not in solution_courante:\n",
    "                voisins.append(v)\n",
    "    return voisins\n",
    "\n",
    "\n",
    "print(dijkstra(graph, start, end))\n",
    "print(a_star(graph, start, end))\n",
    "print(tabou_search(start, end, 10, 200))"
   ],
   "metadata": {
    "collapsed": false,
    "ExecuteTime": {
     "end_time": "2023-06-19T13:48:01.729699660Z",
     "start_time": "2023-06-19T13:48:01.700049121Z"
    }
   }
  },
  {
   "cell_type": "markdown",
   "source": [
    "A présent, créeons les objets et une fonction permettant de déterminer le meilleur itinéraire en fonction du coût le plus faible"
   ],
   "metadata": {
    "collapsed": false
   }
  },
  {
   "cell_type": "code",
   "execution_count": 18,
   "outputs": [],
   "source": [
    "import itertools\n",
    "import time\n",
    "import random\n",
    "\n",
    "\n",
    "def create_objects(max_entiers, max_valeur, start, end):\n",
    "    if max_entiers > max_valeur - 2:\n",
    "        raise ValueError(\"Le maximum d'entiers ne peut pas être supérieur à la différence entre max_valeur et 2\")\n",
    "\n",
    "    entiers = list(set(range(max_valeur)) - {start, end})\n",
    "    entiers = random.sample(entiers, max_entiers)\n",
    "    return entiers\n",
    "\n",
    "\n",
    "def best_itinerary(points, start, end, method, size=30, iteration=200):\n",
    "    print(\"---------------------------------------------------------\")\n",
    "    print(f\"Looking for Best Path:\")\n",
    "    tic = time.perf_counter()\n",
    "\n",
    "    best_objects_path = [start]\n",
    "    chemin_global = []\n",
    "    cout_meilleur_chemin = float('inf')\n",
    "\n",
    "    for permutation in itertools.permutations(points):\n",
    "        _, cout_start = dijkstra(graph, start, permutation[0])\n",
    "        cout_total = cout_start\n",
    "\n",
    "        paths = []\n",
    "\n",
    "        for i in range(len(permutation) - 1):\n",
    "            point_actuel = permutation[i]\n",
    "            point_suivant = permutation[i + 1]\n",
    "            match(method) :\n",
    "                case 'tabou':\n",
    "                        path, cout = tabou_search(point_actuel, point_suivant, size, iteration)\n",
    "                case 'a*':\n",
    "                        path, cout = a_star(graph, point_actuel, point_suivant)\n",
    "                case other:\n",
    "                        method = 'dijkstra'\n",
    "                        path, cout = dijkstra(graph, point_actuel, point_suivant)\n",
    "            cout_total += cout\n",
    "            paths.extend(path)\n",
    "\n",
    "        if cout_total < cout_meilleur_chemin:\n",
    "            cout_meilleur_chemin = cout_total\n",
    "            best_objects_path = list(permutation)\n",
    "            chemin_global = paths[:]\n",
    "\n",
    "    chemin_global = remove_consecutive_duplicates(chemin_global)\n",
    "    chemin_global.insert(0, start)\n",
    "    chemin_global.append(end)\n",
    "    toc = time.perf_counter()\n",
    "\n",
    "    print(f\"Objects Path: {best_objects_path}\")\n",
    "    print(f\"Method: {method}\")\n",
    "    print(f\"Path: {chemin_global}\")\n",
    "    print(f\"Cost: {cout_meilleur_chemin}\")\n",
    "    print(f\"Duration: {toc - tic:0.4f} seconds\")\n",
    "    print(\"---------------------------------------------------------\")\n",
    "\n",
    "    return best_objects_path, cout_meilleur_chemin, chemin_global\n",
    "\n",
    "\n",
    "def remove_consecutive_duplicates(lst):\n",
    "    result = [lst[0]]  # Ajouter le premier élément à la liste résultat\n",
    "\n",
    "    for i in range(1, len(lst)):\n",
    "        if lst[i] != lst[i - 1]:\n",
    "            result.append(lst[i])  # Ajouter l'élément à la liste résultat s'il est différent du précédent\n",
    "\n",
    "    return result\n",
    "\n",
    "\n",
    "def base_itinerary_cost(self, path):\n",
    "    distance_totale = 0\n",
    "\n",
    "    for i in range(len(path) - 1):\n",
    "        source = path[i]\n",
    "        destination = path[i + 1]\n",
    "        _, distance = self.dijkstra(source, destination)\n",
    "        distance_totale += distance\n",
    "\n",
    "    return distance_totale"
   ],
   "metadata": {
    "collapsed": false,
    "ExecuteTime": {
     "end_time": "2023-06-19T13:48:04.474422966Z",
     "start_time": "2023-06-19T13:48:04.458990111Z"
    }
   }
  },
  {
   "cell_type": "raw",
   "source": [
    "2 - Demonstration of this implementation on multiple cases"
   ],
   "metadata": {
    "collapsed": false
   }
  },
  {
   "cell_type": "raw",
   "source": [
    "Case I :\n",
    "\n",
    "Explication of the case\n"
   ],
   "metadata": {
    "collapsed": false
   }
  },
  {
   "cell_type": "code",
   "execution_count": 19,
   "outputs": [
    {
     "name": "stdout",
     "output_type": "stream",
     "text": [
      "---------------------------------------------------------\n",
      "Looking for Best Path:\n",
      "Objects Path: [9, 0]\n",
      "Method: dijkstra\n",
      "Path: [1, 9, 0, 1]\n",
      "Cost: 75\n",
      "Duration: 0.0001 seconds\n",
      "---------------------------------------------------------\n",
      "---------------------------------------------------------\n",
      "Looking for Best Path:\n",
      "Objects Path: [9, 0]\n",
      "Method: tabou\n",
      "Path: [1, 9, 0, 1]\n",
      "Cost: 75\n",
      "Duration: 0.0001 seconds\n",
      "---------------------------------------------------------\n",
      "---------------------------------------------------------\n",
      "Looking for Best Path:\n",
      "Objects Path: [9, 0]\n",
      "Method: a*\n",
      "Path: [1, 9, 0, 1]\n",
      "Cost: 75\n",
      "Duration: 0.0001 seconds\n",
      "---------------------------------------------------------\n"
     ]
    },
    {
     "data": {
      "text/plain": "<Figure size 640x480 with 1 Axes>",
      "image/png": "[encoded data removed]"
     },
     "metadata": {},
     "output_type": "display_data"
    }
   ],
   "source": [
    "# Générer la liste d'objets (sommets à visiter)\n",
    "obj = create_objects(2, num_nodes, start, end)\n",
    "\n",
    "# Détermine le meilleur chemin qui passe par les points générés\n",
    "path, cost, chemin_g = best_itinerary(obj, start, start, 'dijkstra')\n",
    "path2, cost2, chemin_g2 = best_itinerary(obj, start, start, 'tabou')\n",
    "path3, cost3, chemin_g3 = best_itinerary(obj, start, start, 'a*')\n",
    "graph.plot_graph([chemin_g, chemin_g2, chemin_g3], ['red', 'blue', 'green'])"
   ],
   "metadata": {
    "collapsed": false,
    "ExecuteTime": {
     "end_time": "2023-06-19T13:48:07.844682967Z",
     "start_time": "2023-06-19T13:48:07.720189666Z"
    }
   }
  },
  {
   "cell_type": "raw",
   "source": [
    "Case II :\n",
    "\n",
    "Explication of the case"
   ],
   "metadata": {
    "collapsed": false
   }
  },
  {
   "cell_type": "code",
   "execution_count": null,
   "outputs": [],
   "source": [
    "#code"
   ],
   "metadata": {
    "collapsed": false
   }
  },
  {
   "cell_type": "raw",
   "source": [],
   "metadata": {
    "collapsed": false
   }
  },
  {
   "cell_type": "raw",
   "source": [
    "3 - Comprehensive experimental design demonstrating your algorithm’s performance (rename)\n",
    "\n",
    "a - Performances\n",
    "\n",
    "This algorithm have many interesing features which are important or interesing for solving our problem.\n"
   ],
   "metadata": {
    "collapsed": false
   }
  },
  {
   "cell_type": "code",
   "execution_count": null,
   "outputs": [],
   "source": [
    "#code pour le temps d'éxecution"
   ],
   "metadata": {
    "collapsed": false
   }
  },
  {
   "cell_type": "raw",
   "source": [
    "b - Limitations\n",
    "\n",
    "All algorithms aren't perfect, they have flaws and ours don't fall under the rule.\n"
   ],
   "metadata": {
    "collapsed": false
   }
  },
  {
   "cell_type": "raw",
   "source": [],
   "metadata": {
    "collapsed": false
   }
  },
  {
   "cell_type": "raw",
   "source": [
    "c - Prospects for improvements\n",
    "\n",
    "Even if this algorithm isn't perfect, it is still possible to improve it. In order to transform this algorithm we got some ideas :\n",
    "\n",
    "-\n",
    "-\n",
    "-"
   ],
   "metadata": {
    "collapsed": false
   }
  }
 ],
 "metadata": {
  "kernelspec": {
   "display_name": "algo_env",
   "language": "python",
   "name": "algo_env"
  },
  "language_info": {
   "codemirror_mode": {
    "name": "ipython",
    "version": 3
   },
   "file_extension": ".py",
   "mimetype": "text/x-python",
   "name": "python",
   "nbconvert_exporter": "python",
   "pygments_lexer": "ipython3",
   "version": "3.10.0"
  }
 },
 "nbformat": 4,
 "nbformat_minor": 5
}
