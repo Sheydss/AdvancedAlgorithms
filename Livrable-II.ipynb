{
 "cells": [
  {
   "cell_type": "raw",
   "id": "e16ecb08-ce22-4b34-9aee-3b17f4cab173",
   "metadata": {},
   "source": [
    "Project deliverable\n",
    "\n",
    "Group 3 \n",
    "Members : \n",
    "- \n",
    "- \n",
    "- \n",
    "- \n"
   ]
  },
  {
   "cell_type": "raw",
   "id": "3aebfab9-254a-46ae-91d7-aa0580cbcf3e",
   "metadata": {},
   "source": []
  },
  {
   "cell_type": "raw",
   "id": "d0fe5a80-17d8-447f-9183-aba45f3970a7",
   "metadata": {},
   "source": [
    "Summary : \n",
    "Presentation of the project\n",
    "Part I : Modelisation \n",
    "1 - Algorithmic complexity\n",
    "2 - Mathematic modelisation\n",
    "3 - Différents algorithmes rentrant dans le cas et comparaison des algorithmes \n",
    "4 - Algorithm choice \n",
    "Partie II : Implementation and operation\n",
    "1 - Algorithm’s implementation ( code)\n",
    "2 - Demonstration of this implementation on multiple cases \n",
    "3 - Comprehensive experimental design demonstrating your algorithm’s performance (rename)\n",
    "a - Performances\n",
    "b - Limitations \n",
    "c - Prospects for improvement"
   ]
  },
  {
   "cell_type": "raw",
   "id": "21cabb4c-9423-418c-a066-00e0afc42b7f",
   "metadata": {},
   "source": []
  },
  {
   "cell_type": "raw",
   "id": "8b914517-4860-4326-8d08-0d32bba2a031",
   "metadata": {},
   "source": [
    "Presentation of the project\n",
    "\n",
    "ADEME (French Environment and Energy Management Agency) has recently launched a call for expressions of interest to promote the execution of demos and experiments of new mobility solutions for people and goods, adapted to different kinds of territories.\n",
    "\n",
    "Your CesiCDP structure is already well established in the field. With the help of many partners, you have carried out several studies on Smart Multimodal Mobility. New transport technologies, despite being more cost-effective and cleaner, also pose new challenges, particularly in terms of resource management optimization. But these transport logistics problems present a major challenge for the future: they can be applied in many areas (mail distribution, product delivery, road network maintenance, garbage collection) and their impact on the environment can be truly significant.\n",
    "\n",
    "You are part of the team set up by CesiCDP to answer the call from ADEME. The challenge is to win new markets with very attractive financing schemes to keep developing your business activity.\n",
    "\n",
    "CesiCDP decided to focus its study on the management of delivery routes. The algorithmic problem consists in calculating on a road network a route allowing to connect a subset of cities between them, then to return to its starting point, so as to minimize the total duration of the route. This optimization should take into account the expected traffic on each axis for the different time slots.\n",
    "\n",
    "The idea is to propose a method from Operations Research to generate a delivery route corresponding to this problem.\n"
   ]
  },
  {
   "cell_type": "raw",
   "id": "10e5b5eb-b450-4cb1-8a85-a4e86d27bf3a",
   "metadata": {},
   "source": []
  },
  {
   "cell_type": "raw",
   "id": "3c190ec7-f586-46c2-89e1-000a085a0060",
   "metadata": {},
   "source": [
    "Part I : Modelisation"
   ]
  },
  {
   "cell_type": "raw",
   "id": "6ee14cf2-03aa-4c3d-8308-b5a13c155ebe",
   "metadata": {},
   "source": []
  },
  {
   "cell_type": "raw",
   "id": "11bff393-a260-40c3-a41c-fc9d65231b5a",
   "metadata": {},
   "source": [
    "Problem modelisation \n",
    "\n",
    "In the course of this project, we first had to analyze the project in order to model it, and then find the best algorithmic model for solving this problem.\n",
    "The aim is to create a solution in Python that will allow us to create a route on a road network to find the route that minimizes the total duration of the tour. Time is therefore our key parameter.\n",
    "This route is a cycle that takes into account traffic and thus the travel time required to link several cities.\n",
    "We represent it as a graph, with the edges (E) being the routes between two cities, and the vertices (V), giving us a graph G(V, E).  \n",
    "\n",
    "Requirements chosen \n",
    "\n",
    "We decided to take the following constraint:\n",
    "Each object has a specific collection point\n",
    "\n",
    "In other words, we'll have a list of objects to collect at specific points. These objects must in turn be delivered to another specific location. This means that we need to recalculate the appropriate route for each object collected.\n",
    "\n",
    "\n",
    "Modelisation\n",
    "\n",
    "Without taking the additional constraint : \n",
    "In our problem, we're trying to optimize a route, so it's a NP-hard problem. \n",
    "\n",
    "Decision problem  \n",
    "Is our problem a Hamiltonian cycle?  \n",
    "Can we make our delivery man pass through each designated vertex of our graph?   \n",
    "\n",
    "Optimization problem   \n",
    "What is the shortest route for our deliveryman to complete his round?"
   ]
  },
  {
   "cell_type": "raw",
   "id": "b309acdb-4c92-4a7b-8707-fcf93cdf01cf",
   "metadata": {},
   "source": []
  },
  {
   "cell_type": "raw",
   "id": "4cbfb72f-6df8-425d-9a61-a408c71a8978",
   "metadata": {},
   "source": [
    "1 - Algorithmic Complexity \n",
    "\n",
    "\n",
    "Pour un ensemble de n! points, il existe au total n! chemins possibles. Le point de départ ne changeant pas la longueur du chemin, on peut choisir celui-ci de façon arbitraire, on a ainsi (n − 1)! chemins différents. Enfin, chaque chemin pouvant être parcouru dans deux sens et les deux possibilités ayant la même longueur, on peut diviser ce nombre par deux. Par exemple, si on nomme les points, a, b, c, d, les chemins abcd et dcba, cdab et badc, adcb et bcda, cbad et dabc ont tous la même longueur. Seul le point de départ et le sens de parcours changent. On a donc (( n − 1) !) / 2 chemins candidats à considérer.   \n"
   ]
  },
  {
   "cell_type": "raw",
   "id": "4250ee7b-805d-49cf-82c0-a3c11e545608",
   "metadata": {},
   "source": []
  },
  {
   "cell_type": "code",
   "execution_count": null,
   "id": "f721437f-02b0-4132-88aa-3e2a9b01a18f",
   "metadata": {},
   "outputs": [],
   "source": [
    "#code ici"
   ]
  },
  {
   "cell_type": "raw",
   "id": "b9fcde74-3e29-4766-8638-64736f9279e8",
   "metadata": {},
   "source": []
  },
  {
   "cell_type": "raw",
   "id": "9a689893-1446-4852-a798-5e7e668e9344",
   "metadata": {},
   "source": [
    "2 - Mathematic modelisation\n",
    "\n",
    "Variables :  \n",
    "- I : List of cities\n",
    "- x(i,j) : represents whether a city had been visited or not on the path , take the  values 1 or 0 \n",
    "- w(i,j) : Represents the edge between deux points of the graph, i.e the time of traject between to cities   \n",
    "Objective function :  \n",
    "- ∑i∑j〖x(i,j) w(i,j) 〗 \n",
    "Requirements  :  \n",
    "- ∑i∑j (x(i,j)) = ∑i∑j (x(j,i) )  \n",
    "- I!=I1  \n",
    "- x'(i,j)=x(i,j)  \n",
    "\n",
    "\n",
    "Problem's Data :  \n",
    "A traffic matrix T, where T(i, j, h) represents the expected traffic level between cities vi and vj at time slot h.  \n",
    "Decision variables :  \n",
    "- A binary variable x(i, j) for each pair of cities (vi, vj), indicating whether the link is included in the tour (1) or not (0).  \n",
    "- A continuous variable y(i, h) for each city vi and time slot h, representing the departure time from city vi to time slot h.  \n",
    "Objective function:  \n",
    "- Minimize total tour duration:  \n",
    "min ∑∑∑[T(i, j, h) * D(i, j) * x(i, j)] + ∑∑[T(i, j, h) * D(i, j) * (1 - x(i, j))] + ∑[T(i, j, h) * D(i, j) * x(j, i)]  \n",
    "Constraints :   \n",
    "- Sub-turn constraint : ∑x(i, j) + ∑x(j, i) ≤ 1 for any subset of cities S ⊆ V, |S| ≥ 2.  \n",
    "- Time continuity constraint: y(i, h) - y(j, h) + M * (1 - ∑x(i, j)) ≥ D(i, j) for all (i, j) ∈ V², h ∈ schedules , where M is a sufficiently large constant.  "
   ]
  },
  {
   "cell_type": "raw",
   "id": "39b95ba3-330c-43c6-af31-3e44c89b560a",
   "metadata": {},
   "source": [
    "#modelisation"
   ]
  },
  {
   "cell_type": "raw",
   "id": "18d78708-04e5-46b5-be1f-b4b446424a62",
   "metadata": {},
   "source": []
  },
  {
   "cell_type": "raw",
   "id": "bf5ead69-3d3e-4234-a3fa-a13118f11fe7",
   "metadata": {},
   "source": [
    "3 - Different algorithms in this case and algorithm comparison\n",
    "\n",
    "To answer the problem, we'll need to use an algorithm to determine the best path based on our data.  \n",
    "\n",
    "Here are the different algorithms we've thought of as a first step. This list is subject to change:  \n",
    "\n",
    "- The travelling salesman algorithm:  \n",
    "\n",
    "The travelling salesman algorithm is an optimization problem in which an undirected weighted graph is required to find the shortest path that passes through all points only once.  \n",
    "\n",
    "- Chinese letter carrier algorithm:  \n",
    "\n",
    "Used to find the shortest path in an undirected connected graph that passes through each edge at least once.  \n",
    "\n",
    "- naive solving  \n",
    "\n",
    "Heuristics :  \n",
    "\n",
    "- 2-opt:  \n",
    "This algorithm is simple and relatively efficient. The principle is as follows:  \n",
    "\n",
    "- An initial path is generated randomly (or by some other method).  \n",
    "- A simple transformation (as simple as possible) is applied to this path.  \n",
    "- If the transformation improves the path, we keep it, otherwise we cancel it.  \n",
    "- Then repeat the operation until the path can no longer be improved. \n",
    "\n",
    "- Lin-Kernighan heuristic: \n",
    "The algorithm consists of iteratively exchanging a certain number of edges from a given solution to find a solution with the best cost. The algorithm works as follows:  \n",
    "- T is chosen as the original, non-optimal tour.  \n",
    "For each edge x of T, x is removed, and the resulting non-circular path P (T\\x) is optimized by reversing the order of passage.  \n",
    "If a new path P' is found that is shorter than the original P, we try to close the tom (link the two ends), and if this turn is shorter than T, we replace T with it and repeat the manoeuvre. \n",
    "- If the new tom is not shorter, we move on to another edge x.  \n",
    "\n",
    "- Ruin and recreate    \n",
    "\n",
    "Méta heuristiques :   \n",
    "\n",
    "- genetic algorithms :  \n",
    "A generic algorithm is a sequence of logical instructions that solves a problem in a general way, without being specific to a particular situation. It follows a clear and precise structure, taking data as input, manipulating it through operations and decisions, and producing a final output. Algorithms may contain loops, conditions, mathematical operations, calls to other functions and so on. It relies on logic and data analysis to achieve a desired result. A generic algorithm must be designed to be efficient, avoid infinite loops and produce correct and reliable results for a wide range of situations.    \n",
    "\n"
   ]
  },
  {
   "cell_type": "raw",
   "id": "1b51b552-a0aa-4102-92bd-e6bb3d4a885a",
   "metadata": {},
   "source": []
  },
  {
   "cell_type": "code",
   "execution_count": null,
   "id": "bbbc0391-f54d-4542-9ace-d1b167973723",
   "metadata": {},
   "outputs": [],
   "source": [
    "#code here "
   ]
  },
  {
   "cell_type": "raw",
   "id": "ff5851a1-b4ff-437e-89f3-97defffb8622",
   "metadata": {},
   "source": []
  },
  {
   "cell_type": "raw",
   "id": "222daadc-6145-4403-8fec-9d8303f95d04",
   "metadata": {},
   "source": [
    "4 - Algorithm choice\n",
    "\n",
    "We choose the [] algorithme because it is well adapted for our situation [ others reasons and proofs)\n"
   ]
  },
  {
   "cell_type": "raw",
   "id": "11b2eafa-e44d-47ef-89bb-d13b13262b70",
   "metadata": {},
   "source": []
  },
  {
   "cell_type": "code",
   "execution_count": null,
   "id": "985dffc5-cb29-45a9-98d0-214a04f1be66",
   "metadata": {},
   "outputs": [],
   "source": [
    "#code "
   ]
  },
  {
   "cell_type": "raw",
   "id": "b01f4445-6ba4-4cf8-a496-93a916b35056",
   "metadata": {},
   "source": []
  },
  {
   "cell_type": "raw",
   "id": "041d4bd2-56fb-4941-bf02-63ddd279e87f",
   "metadata": {},
   "source": [
    "Partie II : Implementation and operation"
   ]
  },
  {
   "cell_type": "raw",
   "id": "2db42c43-de0c-4579-a458-3deabd3e5061",
   "metadata": {},
   "source": []
  },
  {
   "cell_type": "raw",
   "id": "a854ccda-513f-4e79-b8fe-fc88e7b42b14",
   "metadata": {},
   "source": [
    "1 - Algorithm’s implementation ( code)\n",
    "\n",
    "blabla"
   ]
  },
  {
   "cell_type": "raw",
   "id": "40781f51-91b4-430b-9ab7-67de153ad2b7",
   "metadata": {},
   "source": []
  },
  {
   "cell_type": "code",
   "execution_count": null,
   "id": "bd23fe6c-a373-4bf5-bfab-419413b147d0",
   "metadata": {},
   "outputs": [],
   "source": [
    "#code "
   ]
  },
  {
   "cell_type": "raw",
   "id": "b3755002-f2f8-4ae9-826c-919b347389a9",
   "metadata": {},
   "source": []
  },
  {
   "cell_type": "raw",
   "id": "d45bed2c-fe29-4661-9195-026efe7cad66",
   "metadata": {},
   "source": [
    "2 - Demonstration of this implementation on multiple cases "
   ]
  },
  {
   "cell_type": "raw",
   "id": "0dfe2ec3-ec7c-4766-968f-f1ba2e2c2ffc",
   "metadata": {},
   "source": [
    "Case I : \n",
    "\n",
    "Explication of the case \n"
   ]
  },
  {
   "cell_type": "code",
   "execution_count": null,
   "id": "8a204cca-f0a1-4321-8e81-1b0ee521ab8e",
   "metadata": {},
   "outputs": [],
   "source": [
    "#code"
   ]
  },
  {
   "cell_type": "raw",
   "id": "bcf4e47d-587d-4a26-a2dd-5053b1839e8c",
   "metadata": {},
   "source": [
    "Case II : \n",
    "\n",
    "Explication of the case "
   ]
  },
  {
   "cell_type": "code",
   "execution_count": null,
   "id": "4e0ab4a1-0aed-4e4b-8937-d686b27a591c",
   "metadata": {},
   "outputs": [],
   "source": [
    "#code"
   ]
  },
  {
   "cell_type": "raw",
   "id": "d99a9290-05a6-408c-a179-5ef21801302c",
   "metadata": {},
   "source": []
  },
  {
   "cell_type": "raw",
   "id": "d70fdada-1e6f-449b-a887-6fc606882cb7",
   "metadata": {},
   "source": [
    "3 - Comprehensive experimental design demonstrating your algorithm’s performance (rename)\n",
    "\n",
    "a - Performances\n",
    "\n",
    "This algorithm have many interesing features which are important or interesing for solving our problem.\n"
   ]
  },
  {
   "cell_type": "code",
   "execution_count": null,
   "id": "b8fb8205-a293-4c10-b3f6-fc4a29004631",
   "metadata": {},
   "outputs": [],
   "source": [
    "#code pour le temps d'éxecution "
   ]
  },
  {
   "cell_type": "raw",
   "id": "0dd5492f-948d-4ea0-bad4-1cc28d199a54",
   "metadata": {},
   "source": [
    "b - Limitations \n",
    "\n",
    "All algorithms aren't perfect, they have flaws and ours don't fall under the rule. \n"
   ]
  },
  {
   "cell_type": "raw",
   "id": "b902228d-e330-4c2e-915c-617e41accb93",
   "metadata": {},
   "source": []
  },
  {
   "cell_type": "raw",
   "id": "21a3535f-9f20-4c5a-aa28-7aeada1811c6",
   "metadata": {},
   "source": [
    "c - Prospects for improvements \n",
    "\n",
    "Even if this algorithm isn't perfect, it is still possible to improve it. In order to transform this algorithm we got some ideas : \n",
    "\n",
    "- \n",
    "-\n",
    "-\n"
   ]
  }
 ],
 "metadata": {
  "kernelspec": {
   "display_name": "algo_env",
   "language": "python",
   "name": "algo_env"
  },
  "language_info": {
   "codemirror_mode": {
    "name": "ipython",
    "version": 3
   },
   "file_extension": ".py",
   "mimetype": "text/x-python",
   "name": "python",
   "nbconvert_exporter": "python",
   "pygments_lexer": "ipython3",
   "version": "3.10.0"
  }
 },
 "nbformat": 4,
 "nbformat_minor": 5
}
