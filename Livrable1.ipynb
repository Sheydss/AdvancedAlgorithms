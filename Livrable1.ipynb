{
 "cells": [
  {
   "attachments": {},
   "cell_type": "markdown",
   "metadata": {},
   "source": [
    "# Livrable 1\n",
    "## Projet Algorithmique avancée\n",
    "##### Estaban, Leo, Lola, Hugo"
   ]
  },
  {
   "attachments": {},
   "cell_type": "markdown",
   "metadata": {},
   "source": [
    "#### Sommaire\n",
    "1. Contexte\t \n",
    "2. Problème à modéliser\t \n",
    "3. Contrainte choisie\t \n",
    "4. Représentation des données\t   \n",
    "  a. Modélisation mathématique  \n",
    "5. Étude de la résolution\t \n",
    "6. Complexité théorique\t\n",
    "\n"
   ]
  },
  {
   "attachments": {},
   "cell_type": "markdown",
   "metadata": {},
   "source": [
    "#### Contexte\n",
    "Vous faites partie de l’équipe (4 personnes) mise en place par CesiCDP pour répondre à l’appel de l’ADEME.  \n",
    " L’enjeu est d’obtenir de nouveaux marchés avec des financements très intéressants pour continuer à développer votre activité.  \n",
    "CesiCDP a décidé d’orienter son étude sur la gestion de tournées de livraison.  \n",
    "\n",
    "Le problème algorithmique consiste à calculer sur un réseau routier une tournée permettant de relier entre elles un sous-ensemble de villes, puis de revenir à son point de départ, de manière à minimiser la durée totale de la tournée.  \n",
    "Cette optimisation devra tenir compte du trafic prévu sur chaque axe pour les différentes tranches horaires.  \n",
    "L’idée est de proposer une méthode issue de la Recherche Opérationnelle pour générer une tournée de livraison correspondant à ce problème.  \n",
    "Le périmètre reste encore à préciser.   \n"
   ]
  },
  {
   "attachments": {},
   "cell_type": "markdown",
   "metadata": {},
   "source": [
    "#### Problème à modéliser \n",
    "\n",
    "Au cours de ce projet, il va nous falloir dans un premier temps analyser le projet afin de le modéliser puis de trouver le meilleur modèle algorithmique permettant la résolution de ce problème.   \n",
    "L’objectif est de réaliser une solution en python permettant de créer un parcours d’un réseau routier pour trouver l’itinéraire minimisant la durée total de la tournée.\n",
    "C’est donc le temps qui sera notre paramètre clé.   \n",
    "Ce trajet est un cycle prenant en compte le trafic et ainsi le temps de trajet permettant de relier plusieurs villes.   \n",
    "Nous le représentons sous forme de graphe, les arêtes (E) seront les trajets entre deux villes, les sommets (V), ce qui nous permettra d’obtenir un graphe G(V, E).   \n"
   ]
  },
  {
   "attachments": {},
   "cell_type": "markdown",
   "metadata": {},
   "source": [
    "#### Contrainte choisie\n",
    "On a décidé de prendre la contrainte suivante :  \n",
    "Chaque objet a un point de collecte spécifique   \n",
    "\n",
    "C'est-à-dire que nous aurons une liste d’objets à récupérer à des points précis. Ces objets devront être livrés à leur tour à un autre endroit spécifique. Ceci implique de recalculer à chaque objet collecté le nouvel itinéraire adapté.\n"
   ]
  },
  {
   "attachments": {},
   "cell_type": "markdown",
   "metadata": {},
   "source": [
    "#### Représentation des données\n",
    "\n",
    "Les données dans notre projet correspondent au réseau routier d’une ville / région.  \n",
    "Pour les représenter, plusieurs options s’offrent à nous.   \n",
    "Nous pouvons soit utiliser une librairie python “OSMnx” qui se base sur OpenStreetMap afin de récupérer directement, sous la forme d’un objet graphe, les sommets avec les coordonnées géographiques associées.   \n",
    "\n",
    "L’autre option est de générer nous-mêmes une carte (donc un graphe). Cette option a pour avantage la maîtrise totale des données, cependant il ne s’agit pas d’un cas réaliste.   \n",
    "Nous avons pris l’option de la librairie qui nous fournit une carte réelle sous la forme d’un objet graphe manipulable.   \n",
    "Dans un premier temps, nous allons manipuler des données générées nous-mêmes puis si on obtient quelque chose de fonctionnel, nous ferons appel à la librairie pour proposer un cas plus réaliste.   \n"
   ]
  },
  {
   "attachments": {},
   "cell_type": "markdown",
   "metadata": {},
   "source": [
    "##### Modélisation mathématique : \n",
    "\n",
    "Modélisation mathématique :  \n",
    "1. Variables :  \n",
    "- I : Ensemble des Villes  \n",
    "- x(i,j) : Représente si la ville est visitée ou non sur le chemin, prends des valeurs 1 ou 0  \n",
    "- w(i,j) : Représente l’arête entre deux points du graphe, soit le temps de trajet entre deux villes  \n",
    "2. Fonction objective:  \n",
    "- ∑i∑j〖x(i,j) w(i,j) 〗 \n",
    "3. Contraintes :  \n",
    "- ∑i∑j (x(i,j)) = ∑i∑j (x(j,i) )  \n",
    "- I!=I1  \n",
    "- x'(i,j)=x(i,j)  \n",
    "\n",
    "\n",
    "Données du problème :  \n",
    "1. Un ensemble de villes V = {v1, v2, ..., vn}.  \n",
    "2. Une matrice de distance D, où D(i, j) représente le temps de parcours entre les villes vi et vj.  \n",
    "3. Une matrice de trafic T, où T(i, j, h) représente le niveau de trafic prévu entre les villes vi et vj à la tranche horaire h.  \n",
    "Variables de décision :  \n",
    "4. Une variable binaire x(i, j) pour chaque paire de villes (vi, vj), indiquant si la liaison est incluse dans la tournée (1) ou non (0).  \n",
    "5. Une variable continue y(i, h) pour chaque ville vi et tranche horaire h, représentant le temps de départ de la ville vi à la tranche horaire h.  \n",
    "Fonction objectif :  \n",
    "6. Minimiser la durée totale de la tournée :  \n",
    "min ∑∑∑[T(i, j, h) * D(i, j) * x(i, j)] + ∑∑[T(i, j, h) * D(i, j) * (1 - x(i, j))] + ∑[T(i, j, h) * D(i, j) * x(j, i)]  \n",
    "Contraintes :   \n",
    "7. Contrainte de sous-tour : ∑x(i, j) + ∑x(j, i) ≤ 1 pour tout sous-ensemble de villes S ⊆ V, |S| ≥ 2.  \n",
    "8. Contrainte de continuité temporelle : y(i, h) - y(j, h) + M * (1 - ∑x(i, j)) ≥ D(i, j) pour tout (i, j) ∈ V², h ∈ Horaires, où M est une constante suffisamment grande.  \n"
   ]
  },
  {
   "attachments": {},
   "cell_type": "markdown",
   "metadata": {},
   "source": [
    "Étude de la résolution  \n",
    "Pour répondre à la problématique et à partir de nos données, il va falloir utiliser un algorithme pour déterminer le meilleur chemin.  \n",
    "\n",
    "Voici les différents algorithmes auxquels on a pensé dans un premier temps, cette liste est amenée à être changée par la suite :  \n",
    "\n",
    "1. Algorithme du voyageur de commerce :  \n",
    "\n",
    "L’algorithme du voyageur de commerce est un problème d’optimisation en ayant un graphe pondéré non orienté à trouver le plus court-circuit qui passe par tous les points une seule fois.  \n",
    "\n",
    "2. Algorithme du postier chinois :  \n",
    "\n",
    "Sert à trouver le chemin le plus court dans un graphe connexe non orienté qui passe par au moins une fois par chaque arête.  \n",
    "\n",
    "3. résolution naïve  \n",
    "\n",
    "Heuristiques :  \n",
    "\n",
    "4. 2-opt :  \n",
    "Cet algorithme est simple et relativement efficace. Le principe est le suivant :  \n",
    "\n",
    "- On génère un trajet initial aléatoirement (ou par une autre méthode).  \n",
    "- On applique à ce trajet une transformation simple (la plus simple possible).  \n",
    "- Si la transformation améliore le trajet, on garde cette transformation, sinon on l'annule.  \n",
    "- Puis on répète l'opération jusqu'à ce que l'on ne puisse plus améliorer le trajet.  \n",
    "\n",
    "5. heuristique de Lin-Kernighan : \n",
    "L'algorithme consiste à échanger itérativement un certain nombre d'arêtes à partir d'une solution donnée pour trouver une solution de meilleur coût. L'algorithme fonctionne comme suit :  \n",
    "- On choisit T un tour originel non-optimal.  \n",
    "Pour chaque arête x de T, on enlève x, et on optimise le chemin non-circulaire obtenu P (T\\x) en intervertissant l'ordre de passage.  \n",
    "Si on trouve un nouveau chemin P' plus court que le P originel, on essaie de refermer le tom (lier les deux extrémités), et si ce tour est plus court que T, on remplace T par celui-ci et on recommence la manœuvre. \n",
    "- Si le nouveau tom n'est pas plus court, on passe alors à une autre arête x.  \n",
    "\n",
    "6. Ruiner et recréer   \n",
    "\n",
    "Méta heuristiques :   \n",
    "\n",
    "5. algorithmes génétiques :  \n",
    "Un algorithme générique est une séquence d'instructions logiques qui permet de résoudre un problème de manière générale, sans être spécifique à une situation particulière. Il suit une structure claire et précise, en prenant des données en entrée, les manipulant à l'aide d'opérations et de décisions, et produisant une sortie finale. L'algorithme peut contenir des boucles, des conditions, des opérations mathématiques, des appels à d'autres fonctions, etc. Son fonctionnement repose sur la logique et l'analyse des données pour atteindre un résultat souhaité. Un algorithme générique doit être conçu de manière à être efficace, éviter les boucles infinies et produire des résultats corrects et fiables pour une large gamme de situations.  \n"
   ]
  },
  {
   "attachments": {},
   "cell_type": "markdown",
   "metadata": {},
   "source": [
    "#### Complexité théorique\n",
    "\n",
    "Sans Prendre la contrainte suplémentaire : \n",
    "Dans notre problème, on cherche à optimiser un trajet, il s’agit donc d’un problème NP difficile. \n",
    "\n",
    "Problème de décision  \n",
    "Est-ce que notre problème est un cycle hamiltonien ?  \n",
    "Peut-on faire passer notre livreur par chaque sommet désigné de notre graphe ?   \n",
    "\n",
    "Problème d’optimisation   \n",
    "Quel est le chemin le plus court afin de permettre à notre livreur de réaliser sa tournée ?\n",
    "\n",
    "https://www.sciencedirect.com/science/article/pii/0304397577900123\n",
    "\n",
    "Pour un ensemble de n! points, il existe au total n! chemins possibles. Le point de départ ne changeant pas la longueur du chemin, on peut choisir celui-ci de façon arbitraire, on a ainsi (n − 1)! chemins différents. Enfin, chaque chemin pouvant être parcouru dans deux sens et les deux possibilités ayant la même longueur, on peut diviser ce nombre par deux. Par exemple, si on nomme les points, a, b, c, d, les chemins abcd et dcba, cdab et badc, adcb et bcda, cbad et dabc ont tous la même longueur. Seul le point de départ et le sens de parcours changent. On a donc (( n − 1) !) / 2 chemins candidats à considérer.   \n"
   ]
  },
  {
   "cell_type": "markdown",
   "metadata": {},
   "source": []
  }
 ],
 "metadata": {
  "kernelspec": {
   "display_name": "Python 3",
   "language": "python",
   "name": "python3"
  },
  "language_info": {
   "codemirror_mode": {
    "name": "ipython",
    "version": 3
   },
   "file_extension": ".py",
   "mimetype": "text/x-python",
   "name": "python",
   "nbconvert_exporter": "python",
   "pygments_lexer": "ipython3",
   "version": "3.11.3"
  },
  "orig_nbformat": 4
 },
 "nbformat": 4,
 "nbformat_minor": 2
}
